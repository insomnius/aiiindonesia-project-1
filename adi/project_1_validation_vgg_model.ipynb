{
  "nbformat": 4,
  "nbformat_minor": 0,
  "metadata": {
    "colab": {
      "provenance": []
    },
    "kernelspec": {
      "name": "python3",
      "display_name": "Python 3"
    },
    "language_info": {
      "name": "python"
    },
    "accelerator": "TPU"
  },
  "cells": [
    {
      "cell_type": "markdown",
      "source": [
        "## **Preface**"
      ],
      "metadata": {
        "id": "DUf-WkBDoAJ7"
      }
    },
    {
      "cell_type": "markdown",
      "source": [
        "⏩ This is third part of ipynb file from my Face Recognition Project using VGG. Please see the first and second part of ipynb file which is \"project_1_EDA.ipynb\" and \"project_1_training vgg model.ipynb\". The purpose of this Project are compare VGG16 & VGG19 model architecture to identify male/female from the image files. <br>\n",
        "This purpose of this file is to give visualization about vgg model that we trained before. <br>\n",
        "▶ Image files are stored in folder \"Dataset/train/\" and \"Dataset/test/\" which are cleaned using \"project_1_EDA.ipynb\".<br>\n",
        "▶ Label files are stored in \"Dataset/list_train_clean.csv\"  and \"Dataset/list_test_clean.csv\"\n",
        "▶ Model files are saved in same directory with this file"
      ],
      "metadata": {
        "id": "2L9hIu3IoEfz"
      }
    },
    {
      "cell_type": "code",
      "execution_count": null,
      "metadata": {
        "id": "cScaksPoNXfP"
      },
      "outputs": [],
      "source": [
        "import numpy as np\n",
        "import pandas as pd\n",
        "import cv2\n",
        "import matplotlib.pyplot as plt\n",
        "import seaborn as sns\n",
        "import os\n",
        "import glob\n",
        "from sklearn.model_selection import train_test_split\n",
        "import shutil\n",
        "\n",
        "import tensorflow as tf\n",
        "from tensorflow.keras.preprocessing.image import ImageDataGenerator\n",
        "from tensorflow.keras.models import Sequential\n",
        "from tensorflow.keras.layers import Dense, Conv2D, MaxPool2D , Flatten, GlobalAveragePooling2D\n",
        "from tensorflow.keras.applications import InceptionV3\n",
        "from keras.callbacks import EarlyStopping, ReduceLROnPlateau\n",
        "\n",
        "from sklearn.metrics import confusion_matrix, ConfusionMatrixDisplay, accuracy_score, precision_score, recall_score, f1_score, roc_curve, auc, precision_recall_curve, average_precision_score"
      ]
    },
    {
      "cell_type": "markdown",
      "source": [
        "⏩ If you want use gdrive, mount it first"
      ],
      "metadata": {
        "id": "Vj77dt-Wo4ev"
      }
    },
    {
      "cell_type": "code",
      "source": [
        "from google.colab import drive\n",
        "drive.mount('/content/gdrive')\n",
        "%cd 'gdrive/MyDrive/Colab Notebooks/Face Recognition/'"
      ],
      "metadata": {
        "colab": {
          "base_uri": "https://localhost:8080/"
        },
        "id": "ncjkTEiXNbeK",
        "outputId": "524e53eb-a82c-4a51-8781-a50d6cfd4300"
      },
      "execution_count": null,
      "outputs": [
        {
          "output_type": "stream",
          "name": "stdout",
          "text": [
            "Mounted at /content/gdrive\n",
            "/content/gdrive/MyDrive/Colab Notebooks/Face Recognition\n"
          ]
        }
      ]
    },
    {
      "cell_type": "code",
      "source": [
        "TRAIN_PATH = 'Dataset/train/'\n",
        "TEST_PATH = 'Dataset/test/'\n",
        "IMG_SIZE = (218, 178)\n",
        "BATCH_SIZE = 32\n",
        "EPOCH_SIZE = 20"
      ],
      "metadata": {
        "id": "inkPhqzvVGc1"
      },
      "execution_count": null,
      "outputs": []
    },
    {
      "cell_type": "markdown",
      "source": [
        "⏩ Load test label dataframe"
      ],
      "metadata": {
        "id": "PwmVhoSKo_In"
      }
    },
    {
      "cell_type": "code",
      "source": [
        "\n",
        "df_test = pd.read_csv('Dataset/list_test_clean.csv')\n",
        "df_test['Male'] = df_test['Male'].astype(\"string\")\n",
        "df_test.loc[df_test['Male'] == '1', ['Male']] = 'Male'\n",
        "df_test.loc[df_test['Male'] == '0', ['Male']] = 'Female'\n",
        "df_test"
      ],
      "metadata": {
        "colab": {
          "base_uri": "https://localhost:8080/",
          "height": 424
        },
        "id": "V6o-iqv3NlyX",
        "outputId": "28eb0349-7f0f-4f30-cdf7-d44666af3e76"
      },
      "execution_count": null,
      "outputs": [
        {
          "output_type": "execute_result",
          "data": {
            "text/plain": [
              "      Filenames    Male\n",
              "0    122315.jpg    Male\n",
              "1    153759.jpg    Male\n",
              "2    115290.jpg    Male\n",
              "3    157437.jpg  Female\n",
              "4    192358.jpg  Female\n",
              "..          ...     ...\n",
              "995  144965.jpg  Female\n",
              "996  026421.jpg    Male\n",
              "997  151442.jpg  Female\n",
              "998  012915.jpg  Female\n",
              "999  055203.jpg  Female\n",
              "\n",
              "[1000 rows x 2 columns]"
            ],
            "text/html": [
              "\n",
              "  <div id=\"df-4e250e72-c6a0-4c80-b7d6-f6aaa1a559a3\" class=\"colab-df-container\">\n",
              "    <div>\n",
              "<style scoped>\n",
              "    .dataframe tbody tr th:only-of-type {\n",
              "        vertical-align: middle;\n",
              "    }\n",
              "\n",
              "    .dataframe tbody tr th {\n",
              "        vertical-align: top;\n",
              "    }\n",
              "\n",
              "    .dataframe thead th {\n",
              "        text-align: right;\n",
              "    }\n",
              "</style>\n",
              "<table border=\"1\" class=\"dataframe\">\n",
              "  <thead>\n",
              "    <tr style=\"text-align: right;\">\n",
              "      <th></th>\n",
              "      <th>Filenames</th>\n",
              "      <th>Male</th>\n",
              "    </tr>\n",
              "  </thead>\n",
              "  <tbody>\n",
              "    <tr>\n",
              "      <th>0</th>\n",
              "      <td>122315.jpg</td>\n",
              "      <td>Male</td>\n",
              "    </tr>\n",
              "    <tr>\n",
              "      <th>1</th>\n",
              "      <td>153759.jpg</td>\n",
              "      <td>Male</td>\n",
              "    </tr>\n",
              "    <tr>\n",
              "      <th>2</th>\n",
              "      <td>115290.jpg</td>\n",
              "      <td>Male</td>\n",
              "    </tr>\n",
              "    <tr>\n",
              "      <th>3</th>\n",
              "      <td>157437.jpg</td>\n",
              "      <td>Female</td>\n",
              "    </tr>\n",
              "    <tr>\n",
              "      <th>4</th>\n",
              "      <td>192358.jpg</td>\n",
              "      <td>Female</td>\n",
              "    </tr>\n",
              "    <tr>\n",
              "      <th>...</th>\n",
              "      <td>...</td>\n",
              "      <td>...</td>\n",
              "    </tr>\n",
              "    <tr>\n",
              "      <th>995</th>\n",
              "      <td>144965.jpg</td>\n",
              "      <td>Female</td>\n",
              "    </tr>\n",
              "    <tr>\n",
              "      <th>996</th>\n",
              "      <td>026421.jpg</td>\n",
              "      <td>Male</td>\n",
              "    </tr>\n",
              "    <tr>\n",
              "      <th>997</th>\n",
              "      <td>151442.jpg</td>\n",
              "      <td>Female</td>\n",
              "    </tr>\n",
              "    <tr>\n",
              "      <th>998</th>\n",
              "      <td>012915.jpg</td>\n",
              "      <td>Female</td>\n",
              "    </tr>\n",
              "    <tr>\n",
              "      <th>999</th>\n",
              "      <td>055203.jpg</td>\n",
              "      <td>Female</td>\n",
              "    </tr>\n",
              "  </tbody>\n",
              "</table>\n",
              "<p>1000 rows × 2 columns</p>\n",
              "</div>\n",
              "    <div class=\"colab-df-buttons\">\n",
              "\n",
              "  <div class=\"colab-df-container\">\n",
              "    <button class=\"colab-df-convert\" onclick=\"convertToInteractive('df-4e250e72-c6a0-4c80-b7d6-f6aaa1a559a3')\"\n",
              "            title=\"Convert this dataframe to an interactive table.\"\n",
              "            style=\"display:none;\">\n",
              "\n",
              "  <svg xmlns=\"http://www.w3.org/2000/svg\" height=\"24px\" viewBox=\"0 -960 960 960\">\n",
              "    <path d=\"M120-120v-720h720v720H120Zm60-500h600v-160H180v160Zm220 220h160v-160H400v160Zm0 220h160v-160H400v160ZM180-400h160v-160H180v160Zm440 0h160v-160H620v160ZM180-180h160v-160H180v160Zm440 0h160v-160H620v160Z\"/>\n",
              "  </svg>\n",
              "    </button>\n",
              "\n",
              "  <style>\n",
              "    .colab-df-container {\n",
              "      display:flex;\n",
              "      gap: 12px;\n",
              "    }\n",
              "\n",
              "    .colab-df-convert {\n",
              "      background-color: #E8F0FE;\n",
              "      border: none;\n",
              "      border-radius: 50%;\n",
              "      cursor: pointer;\n",
              "      display: none;\n",
              "      fill: #1967D2;\n",
              "      height: 32px;\n",
              "      padding: 0 0 0 0;\n",
              "      width: 32px;\n",
              "    }\n",
              "\n",
              "    .colab-df-convert:hover {\n",
              "      background-color: #E2EBFA;\n",
              "      box-shadow: 0px 1px 2px rgba(60, 64, 67, 0.3), 0px 1px 3px 1px rgba(60, 64, 67, 0.15);\n",
              "      fill: #174EA6;\n",
              "    }\n",
              "\n",
              "    .colab-df-buttons div {\n",
              "      margin-bottom: 4px;\n",
              "    }\n",
              "\n",
              "    [theme=dark] .colab-df-convert {\n",
              "      background-color: #3B4455;\n",
              "      fill: #D2E3FC;\n",
              "    }\n",
              "\n",
              "    [theme=dark] .colab-df-convert:hover {\n",
              "      background-color: #434B5C;\n",
              "      box-shadow: 0px 1px 3px 1px rgba(0, 0, 0, 0.15);\n",
              "      filter: drop-shadow(0px 1px 2px rgba(0, 0, 0, 0.3));\n",
              "      fill: #FFFFFF;\n",
              "    }\n",
              "  </style>\n",
              "\n",
              "    <script>\n",
              "      const buttonEl =\n",
              "        document.querySelector('#df-4e250e72-c6a0-4c80-b7d6-f6aaa1a559a3 button.colab-df-convert');\n",
              "      buttonEl.style.display =\n",
              "        google.colab.kernel.accessAllowed ? 'block' : 'none';\n",
              "\n",
              "      async function convertToInteractive(key) {\n",
              "        const element = document.querySelector('#df-4e250e72-c6a0-4c80-b7d6-f6aaa1a559a3');\n",
              "        const dataTable =\n",
              "          await google.colab.kernel.invokeFunction('convertToInteractive',\n",
              "                                                    [key], {});\n",
              "        if (!dataTable) return;\n",
              "\n",
              "        const docLinkHtml = 'Like what you see? Visit the ' +\n",
              "          '<a target=\"_blank\" href=https://colab.research.google.com/notebooks/data_table.ipynb>data table notebook</a>'\n",
              "          + ' to learn more about interactive tables.';\n",
              "        element.innerHTML = '';\n",
              "        dataTable['output_type'] = 'display_data';\n",
              "        await google.colab.output.renderOutput(dataTable, element);\n",
              "        const docLink = document.createElement('div');\n",
              "        docLink.innerHTML = docLinkHtml;\n",
              "        element.appendChild(docLink);\n",
              "      }\n",
              "    </script>\n",
              "  </div>\n",
              "\n",
              "\n",
              "<div id=\"df-a706cf28-4933-4289-b0a6-5995d94aec97\">\n",
              "  <button class=\"colab-df-quickchart\" onclick=\"quickchart('df-a706cf28-4933-4289-b0a6-5995d94aec97')\"\n",
              "            title=\"Suggest charts\"\n",
              "            style=\"display:none;\">\n",
              "\n",
              "<svg xmlns=\"http://www.w3.org/2000/svg\" height=\"24px\"viewBox=\"0 0 24 24\"\n",
              "     width=\"24px\">\n",
              "    <g>\n",
              "        <path d=\"M19 3H5c-1.1 0-2 .9-2 2v14c0 1.1.9 2 2 2h14c1.1 0 2-.9 2-2V5c0-1.1-.9-2-2-2zM9 17H7v-7h2v7zm4 0h-2V7h2v10zm4 0h-2v-4h2v4z\"/>\n",
              "    </g>\n",
              "</svg>\n",
              "  </button>\n",
              "\n",
              "<style>\n",
              "  .colab-df-quickchart {\n",
              "      --bg-color: #E8F0FE;\n",
              "      --fill-color: #1967D2;\n",
              "      --hover-bg-color: #E2EBFA;\n",
              "      --hover-fill-color: #174EA6;\n",
              "      --disabled-fill-color: #AAA;\n",
              "      --disabled-bg-color: #DDD;\n",
              "  }\n",
              "\n",
              "  [theme=dark] .colab-df-quickchart {\n",
              "      --bg-color: #3B4455;\n",
              "      --fill-color: #D2E3FC;\n",
              "      --hover-bg-color: #434B5C;\n",
              "      --hover-fill-color: #FFFFFF;\n",
              "      --disabled-bg-color: #3B4455;\n",
              "      --disabled-fill-color: #666;\n",
              "  }\n",
              "\n",
              "  .colab-df-quickchart {\n",
              "    background-color: var(--bg-color);\n",
              "    border: none;\n",
              "    border-radius: 50%;\n",
              "    cursor: pointer;\n",
              "    display: none;\n",
              "    fill: var(--fill-color);\n",
              "    height: 32px;\n",
              "    padding: 0;\n",
              "    width: 32px;\n",
              "  }\n",
              "\n",
              "  .colab-df-quickchart:hover {\n",
              "    background-color: var(--hover-bg-color);\n",
              "    box-shadow: 0 1px 2px rgba(60, 64, 67, 0.3), 0 1px 3px 1px rgba(60, 64, 67, 0.15);\n",
              "    fill: var(--button-hover-fill-color);\n",
              "  }\n",
              "\n",
              "  .colab-df-quickchart-complete:disabled,\n",
              "  .colab-df-quickchart-complete:disabled:hover {\n",
              "    background-color: var(--disabled-bg-color);\n",
              "    fill: var(--disabled-fill-color);\n",
              "    box-shadow: none;\n",
              "  }\n",
              "\n",
              "  .colab-df-spinner {\n",
              "    border: 2px solid var(--fill-color);\n",
              "    border-color: transparent;\n",
              "    border-bottom-color: var(--fill-color);\n",
              "    animation:\n",
              "      spin 1s steps(1) infinite;\n",
              "  }\n",
              "\n",
              "  @keyframes spin {\n",
              "    0% {\n",
              "      border-color: transparent;\n",
              "      border-bottom-color: var(--fill-color);\n",
              "      border-left-color: var(--fill-color);\n",
              "    }\n",
              "    20% {\n",
              "      border-color: transparent;\n",
              "      border-left-color: var(--fill-color);\n",
              "      border-top-color: var(--fill-color);\n",
              "    }\n",
              "    30% {\n",
              "      border-color: transparent;\n",
              "      border-left-color: var(--fill-color);\n",
              "      border-top-color: var(--fill-color);\n",
              "      border-right-color: var(--fill-color);\n",
              "    }\n",
              "    40% {\n",
              "      border-color: transparent;\n",
              "      border-right-color: var(--fill-color);\n",
              "      border-top-color: var(--fill-color);\n",
              "    }\n",
              "    60% {\n",
              "      border-color: transparent;\n",
              "      border-right-color: var(--fill-color);\n",
              "    }\n",
              "    80% {\n",
              "      border-color: transparent;\n",
              "      border-right-color: var(--fill-color);\n",
              "      border-bottom-color: var(--fill-color);\n",
              "    }\n",
              "    90% {\n",
              "      border-color: transparent;\n",
              "      border-bottom-color: var(--fill-color);\n",
              "    }\n",
              "  }\n",
              "</style>\n",
              "\n",
              "  <script>\n",
              "    async function quickchart(key) {\n",
              "      const quickchartButtonEl =\n",
              "        document.querySelector('#' + key + ' button');\n",
              "      quickchartButtonEl.disabled = true;  // To prevent multiple clicks.\n",
              "      quickchartButtonEl.classList.add('colab-df-spinner');\n",
              "      try {\n",
              "        const charts = await google.colab.kernel.invokeFunction(\n",
              "            'suggestCharts', [key], {});\n",
              "      } catch (error) {\n",
              "        console.error('Error during call to suggestCharts:', error);\n",
              "      }\n",
              "      quickchartButtonEl.classList.remove('colab-df-spinner');\n",
              "      quickchartButtonEl.classList.add('colab-df-quickchart-complete');\n",
              "    }\n",
              "    (() => {\n",
              "      let quickchartButtonEl =\n",
              "        document.querySelector('#df-a706cf28-4933-4289-b0a6-5995d94aec97 button');\n",
              "      quickchartButtonEl.style.display =\n",
              "        google.colab.kernel.accessAllowed ? 'block' : 'none';\n",
              "    })();\n",
              "  </script>\n",
              "</div>\n",
              "    </div>\n",
              "  </div>\n"
            ],
            "application/vnd.google.colaboratory.intrinsic+json": {
              "type": "dataframe",
              "variable_name": "df_test",
              "summary": "{\n  \"name\": \"df_test\",\n  \"rows\": 1000,\n  \"fields\": [\n    {\n      \"column\": \"Filenames\",\n      \"properties\": {\n        \"dtype\": \"string\",\n        \"num_unique_values\": 1000,\n        \"samples\": [\n          \"174354.jpg\",\n          \"164726.jpg\",\n          \"129972.jpg\"\n        ],\n        \"semantic_type\": \"\",\n        \"description\": \"\"\n      }\n    },\n    {\n      \"column\": \"Male\",\n      \"properties\": {\n        \"dtype\": \"string\",\n        \"num_unique_values\": 2,\n        \"samples\": [\n          \"Female\",\n          \"Male\"\n        ],\n        \"semantic_type\": \"\",\n        \"description\": \"\"\n      }\n    }\n  ]\n}"
            }
          },
          "metadata": {},
          "execution_count": 8
        }
      ]
    },
    {
      "cell_type": "markdown",
      "source": [
        "⏩ Load the vgg16 model with epoch 20"
      ],
      "metadata": {
        "id": "3gRVla8UpH6p"
      }
    },
    {
      "cell_type": "code",
      "source": [
        "vgg16_ep20_model = tf.keras.models.load_model(\"model_finishvgg16_20.h5\")\n",
        "vgg16_ep20_model.summary()"
      ],
      "metadata": {
        "colab": {
          "base_uri": "https://localhost:8080/"
        },
        "id": "PeKHD5W8QDdt",
        "outputId": "6650d568-efeb-4f04-9eea-58d167d65ec8"
      },
      "execution_count": null,
      "outputs": [
        {
          "output_type": "stream",
          "name": "stdout",
          "text": [
            "Model: \"sequential_1\"\n",
            "_________________________________________________________________\n",
            " Layer (type)                Output Shape              Param #   \n",
            "=================================================================\n",
            " vgg16 (Functional)          (None, 6, 5, 512)         14714688  \n",
            "                                                                 \n",
            " flatten_1 (Flatten)         (None, 15360)             0         \n",
            "                                                                 \n",
            " dense_6 (Dense)             (None, 256)               3932416   \n",
            "                                                                 \n",
            " dense_7 (Dense)             (None, 256)               65792     \n",
            "                                                                 \n",
            " dense_8 (Dense)             (None, 64)                16448     \n",
            "                                                                 \n",
            " dense_9 (Dense)             (None, 32)                2080      \n",
            "                                                                 \n",
            " dense_10 (Dense)            (None, 32)                1056      \n",
            "                                                                 \n",
            " dense_11 (Dense)            (None, 2)                 66        \n",
            "                                                                 \n",
            "=================================================================\n",
            "Total params: 18,732,546\n",
            "Trainable params: 4,017,858\n",
            "Non-trainable params: 14,714,688\n",
            "_________________________________________________________________\n"
          ]
        }
      ]
    },
    {
      "cell_type": "markdown",
      "source": [
        "⏩ Treat test/validation images similar with training"
      ],
      "metadata": {
        "id": "EsK4-IRfpbFI"
      }
    },
    {
      "cell_type": "code",
      "source": [
        "testing_datagen = ImageDataGenerator(rescale=1./255)\n",
        "testing_generator = testing_datagen.flow_from_dataframe(\n",
        "    df_test,\n",
        "    TEST_PATH,\n",
        "    x_col='Filenames',\n",
        "    y_col=None,\n",
        "    target_size=IMG_SIZE,\n",
        "    class_mode=None,\n",
        "    batch_size=BATCH_SIZE,\n",
        "    shuffle=False\n",
        ")"
      ],
      "metadata": {
        "colab": {
          "base_uri": "https://localhost:8080/"
        },
        "id": "Ei7iijJAQSbw",
        "outputId": "4bd7a687-38e3-486c-fbe7-b9cf9d57c303"
      },
      "execution_count": null,
      "outputs": [
        {
          "output_type": "stream",
          "name": "stdout",
          "text": [
            "Found 1000 validated image filenames.\n"
          ]
        }
      ]
    },
    {
      "cell_type": "markdown",
      "source": [
        "⏩ Create function to show confusion matrix and print accuracy"
      ],
      "metadata": {
        "id": "W6_oz--ppuUH"
      }
    },
    {
      "cell_type": "code",
      "source": [
        "def show_matrix_confusion(model) :\n",
        "    # Evaluate the model on the validation set\n",
        "    evaluation = model.evaluate(testing_generator)\n",
        "\n",
        "    # Predict model using testing data\n",
        "    ##true_labels = test_generator.classes\n",
        "    predictions = model.predict(testing_generator)\n",
        "    predict = predictions.argmax(axis=1)\n",
        "    predict_map = [\"Male\" if v == 1 else \"Female\" for v in predict]\n",
        "    #labels = ['Male','Female']\n",
        "    conf_matrix = confusion_matrix(df_test['Male'], predict_map)\n",
        "    # Plot the confusion matrix\n",
        "    plt.figure(figsize=(8, 6))\n",
        "    sns.heatmap(conf_matrix, annot=True, fmt='g', cmap='Blues',\n",
        "    xticklabels=['Predicted Negative', 'Predicted Positive'],\n",
        "    yticklabels=['Actual Negative', 'Actual Positive'])\n",
        "    plt.title('Confusion Matrix')\n",
        "    plt.xlabel('Predicted Label')\n",
        "    plt.ylabel('True Label')\n",
        "    plt.show()\n",
        "\n",
        "    #Print accuracy, precision, recall & f1\n",
        "    accuracy = accuracy_score(df_test['Male'] , predict_map)\n",
        "    precision = precision_score(df_test['Male'] , predict_map, pos_label='Male')\n",
        "    recall = recall_score(df_test['Male'] , predict_map, pos_label='Male')\n",
        "    f1 = f1_score(df_test['Male'] , predict_map, pos_label='Male')\n",
        "    print(f'Accuracy : {accuracy}')\n",
        "    print(f'Precision : {precision}')\n",
        "    print(f'Recall : {recall}')\n",
        "    print(f'f1 : {f1}')"
      ],
      "metadata": {
        "id": "eE_zPmbZVBFu"
      },
      "execution_count": null,
      "outputs": []
    },
    {
      "cell_type": "markdown",
      "source": [
        "⏩ Confusion Matrix VGG16 Epoch 20"
      ],
      "metadata": {
        "id": "zzR6nfw2qCrX"
      }
    },
    {
      "cell_type": "code",
      "source": [
        "show_matrix_confusion(vgg16_ep20_model)"
      ],
      "metadata": {
        "colab": {
          "base_uri": "https://localhost:8080/",
          "height": 668
        },
        "id": "4uBY9q-FaNJl",
        "outputId": "26fdc5d0-a66c-46e2-fa29-1fac1c57b3a0"
      },
      "execution_count": null,
      "outputs": [
        {
          "output_type": "stream",
          "name": "stdout",
          "text": [
            "32/32 [==============================] - 8s 239ms/step - loss: 0.0000e+00 - accuracy: 0.0000e+00\n",
            "32/32 [==============================] - 473s 15s/step\n"
          ]
        },
        {
          "output_type": "display_data",
          "data": {
            "text/plain": [
              "<Figure size 800x600 with 2 Axes>"
            ],
            "image/png": "[encoded data removed]"
          },
          "metadata": {}
        },
        {
          "output_type": "stream",
          "name": "stdout",
          "text": [
            "Accuracy : 0.904\n",
            "Precision : 0.8238866396761133\n",
            "Recall : 0.9783653846153846\n",
            "f1 : 0.8945054945054944\n"
          ]
        }
      ]
    },
    {
      "cell_type": "markdown",
      "source": [
        "⏩ Confusion Matrix VGG16 Epoch 30"
      ],
      "metadata": {
        "id": "HwhLCPPPqJ2h"
      }
    },
    {
      "cell_type": "code",
      "source": [
        "vgg16_ep30_model = tf.keras.models.load_model(\"model_finishvgg16_30.h5\")\n",
        "vgg16_ep30_model.summary()"
      ],
      "metadata": {
        "colab": {
          "base_uri": "https://localhost:8080/"
        },
        "id": "kfL0xMiqdtbX",
        "outputId": "ed5bcd2f-68bc-4a1e-bd80-a35c0f9baae6"
      },
      "execution_count": null,
      "outputs": [
        {
          "output_type": "stream",
          "name": "stdout",
          "text": [
            "Model: \"sequential_1\"\n",
            "_________________________________________________________________\n",
            " Layer (type)                Output Shape              Param #   \n",
            "=================================================================\n",
            " vgg16 (Functional)          (None, 6, 5, 512)         14714688  \n",
            "                                                                 \n",
            " flatten_1 (Flatten)         (None, 15360)             0         \n",
            "                                                                 \n",
            " dense_6 (Dense)             (None, 256)               3932416   \n",
            "                                                                 \n",
            " dense_7 (Dense)             (None, 256)               65792     \n",
            "                                                                 \n",
            " dense_8 (Dense)             (None, 64)                16448     \n",
            "                                                                 \n",
            " dense_9 (Dense)             (None, 32)                2080      \n",
            "                                                                 \n",
            " dense_10 (Dense)            (None, 32)                1056      \n",
            "                                                                 \n",
            " dense_11 (Dense)            (None, 2)                 66        \n",
            "                                                                 \n",
            "=================================================================\n",
            "Total params: 18,732,546\n",
            "Trainable params: 4,017,858\n",
            "Non-trainable params: 14,714,688\n",
            "_________________________________________________________________\n"
          ]
        }
      ]
    },
    {
      "cell_type": "code",
      "source": [
        "show_matrix_confusion(vgg16_ep30_model)"
      ],
      "metadata": {
        "colab": {
          "base_uri": "https://localhost:8080/",
          "height": 668
        },
        "id": "CLYirY2VdtL4",
        "outputId": "82c8adf3-6930-4f90-eeb2-66b038f6571a"
      },
      "execution_count": null,
      "outputs": [
        {
          "output_type": "stream",
          "name": "stdout",
          "text": [
            "32/32 [==============================] - 6s 164ms/step - loss: 0.0000e+00 - accuracy: 0.0000e+00\n",
            "32/32 [==============================] - 476s 15s/step\n"
          ]
        },
        {
          "output_type": "display_data",
          "data": {
            "text/plain": [
              "<Figure size 800x600 with 2 Axes>"
            ],
            "image/png": "[encoded data removed]"
          },
          "metadata": {}
        },
        {
          "output_type": "stream",
          "name": "stdout",
          "text": [
            "Accuracy : 0.943\n",
            "Precision : 0.9304556354916067\n",
            "Recall : 0.9326923076923077\n",
            "f1 : 0.9315726290516206\n"
          ]
        }
      ]
    },
    {
      "cell_type": "markdown",
      "source": [
        "⏩ Confusion Matrix VGG19 Epoch 20"
      ],
      "metadata": {
        "id": "JUDbm64JqQsP"
      }
    },
    {
      "cell_type": "code",
      "source": [
        "vgg19_ep20_model = tf.keras.models.load_model(\"model_finishvgg19_ep20.h5\")\n",
        "vgg19_ep20_model.summary()"
      ],
      "metadata": {
        "colab": {
          "base_uri": "https://localhost:8080/"
        },
        "id": "P77ASt1rh9FH",
        "outputId": "291f7a4a-b037-42c0-9dc8-41984919088d"
      },
      "execution_count": null,
      "outputs": [
        {
          "output_type": "stream",
          "name": "stdout",
          "text": [
            "Model: \"sequential\"\n",
            "_________________________________________________________________\n",
            " Layer (type)                Output Shape              Param #   \n",
            "=================================================================\n",
            " vgg19 (Functional)          (None, 6, 5, 512)         20024384  \n",
            "                                                                 \n",
            " flatten (Flatten)           (None, 15360)             0         \n",
            "                                                                 \n",
            " dense (Dense)               (None, 256)               3932416   \n",
            "                                                                 \n",
            " dense_1 (Dense)             (None, 256)               65792     \n",
            "                                                                 \n",
            " dense_2 (Dense)             (None, 64)                16448     \n",
            "                                                                 \n",
            " dense_3 (Dense)             (None, 32)                2080      \n",
            "                                                                 \n",
            " dense_4 (Dense)             (None, 32)                1056      \n",
            "                                                                 \n",
            " dense_5 (Dense)             (None, 2)                 66        \n",
            "                                                                 \n",
            "=================================================================\n",
            "Total params: 24,042,242\n",
            "Trainable params: 4,017,858\n",
            "Non-trainable params: 20,024,384\n",
            "_________________________________________________________________\n"
          ]
        }
      ]
    },
    {
      "cell_type": "code",
      "source": [
        "vgg19_ep20_model.save(\"model_finishvgg19_ep20.h5\")"
      ],
      "metadata": {
        "id": "khadeTM1o2kJ"
      },
      "execution_count": null,
      "outputs": []
    },
    {
      "cell_type": "code",
      "source": [
        "vgg19_ep30_model.save(\"model_finishvgg19_ep30.h5\")"
      ],
      "metadata": {
        "id": "75BQp-SRptgN"
      },
      "execution_count": null,
      "outputs": []
    },
    {
      "cell_type": "code",
      "source": [
        "show_matrix_confusion(vgg19_ep20_model)"
      ],
      "metadata": {
        "colab": {
          "base_uri": "https://localhost:8080/",
          "height": 668
        },
        "id": "awYilsKHh85v",
        "outputId": "6a1875a7-c655-4494-c124-62a78b6f9ef7"
      },
      "execution_count": null,
      "outputs": [
        {
          "output_type": "stream",
          "name": "stdout",
          "text": [
            "32/32 [==============================] - 7s 203ms/step - loss: 0.0000e+00 - accuracy: 0.0000e+00\n",
            "32/32 [==============================] - 595s 19s/step\n"
          ]
        },
        {
          "output_type": "display_data",
          "data": {
            "text/plain": [
              "<Figure size 800x600 with 2 Axes>"
            ],
            "image/png": "[encoded data removed]"
          },
          "metadata": {}
        },
        {
          "output_type": "stream",
          "name": "stdout",
          "text": [
            "Accuracy : 0.928\n",
            "Precision : 0.9154589371980676\n",
            "Recall : 0.9110576923076923\n",
            "f1 : 0.9132530120481928\n"
          ]
        }
      ]
    },
    {
      "cell_type": "markdown",
      "source": [
        "⏩ Confusion Matrix VGG19 Epoch 30"
      ],
      "metadata": {
        "id": "rq62S-LKqYS6"
      }
    },
    {
      "cell_type": "code",
      "source": [
        "vgg19_ep30_model = tf.keras.models.load_model(\"model_finish2.h5\")\n",
        "vgg19_ep30_model.summary()"
      ],
      "metadata": {
        "colab": {
          "base_uri": "https://localhost:8080/"
        },
        "id": "zx1PNeCOlpev",
        "outputId": "490519c7-646a-4dd5-9e85-02c3a85a2967"
      },
      "execution_count": null,
      "outputs": [
        {
          "output_type": "stream",
          "name": "stdout",
          "text": [
            "Model: \"sequential\"\n",
            "_________________________________________________________________\n",
            " Layer (type)                Output Shape              Param #   \n",
            "=================================================================\n",
            " vgg19 (Functional)          (None, 6, 5, 512)         20024384  \n",
            "                                                                 \n",
            " flatten (Flatten)           (None, 15360)             0         \n",
            "                                                                 \n",
            " dense (Dense)               (None, 256)               3932416   \n",
            "                                                                 \n",
            " dense_1 (Dense)             (None, 256)               65792     \n",
            "                                                                 \n",
            " dense_2 (Dense)             (None, 64)                16448     \n",
            "                                                                 \n",
            " dense_3 (Dense)             (None, 32)                2080      \n",
            "                                                                 \n",
            " dense_4 (Dense)             (None, 32)                1056      \n",
            "                                                                 \n",
            " dense_5 (Dense)             (None, 2)                 66        \n",
            "                                                                 \n",
            "=================================================================\n",
            "Total params: 24,042,242\n",
            "Trainable params: 4,017,858\n",
            "Non-trainable params: 20,024,384\n",
            "_________________________________________________________________\n"
          ]
        }
      ]
    },
    {
      "cell_type": "code",
      "source": [
        "show_matrix_confusion(vgg19_ep30_model)"
      ],
      "metadata": {
        "colab": {
          "base_uri": "https://localhost:8080/",
          "height": 668
        },
        "id": "qdbp7SLKlpT3",
        "outputId": "8e900651-5398-4f09-ee3e-e414dbcf28fa"
      },
      "execution_count": null,
      "outputs": [
        {
          "output_type": "stream",
          "name": "stdout",
          "text": [
            "32/32 [==============================] - 6s 158ms/step - loss: 0.0000e+00 - accuracy: 0.0000e+00\n",
            "32/32 [==============================] - 591s 18s/step\n"
          ]
        },
        {
          "output_type": "display_data",
          "data": {
            "text/plain": [
              "<Figure size 800x600 with 2 Axes>"
            ],
            "image/png": "[encoded data removed]"
          },
          "metadata": {}
        },
        {
          "output_type": "stream",
          "name": "stdout",
          "text": [
            "Accuracy : 0.925\n",
            "Precision : 0.8831460674157303\n",
            "Recall : 0.9447115384615384\n",
            "f1 : 0.9128919860627177\n"
          ]
        }
      ]
    },
    {
      "cell_type": "code",
      "source": [
        "accuracy = accuracy_score(df_test['Male'] , predict_map)"
      ],
      "metadata": {
        "id": "SYjUZ-CvaS37"
      },
      "execution_count": null,
      "outputs": []
    },
    {
      "cell_type": "code",
      "source": [
        "model = vgg16_ep20_model\n",
        "    # Evaluate the model on the validation set\n",
        "evaluation = model.evaluate(testing_generator)\n",
        "\n",
        "# Predict model using testing data\n",
        "##true_labels = test_generator.classes\n",
        "predictions = model.predict(testing_generator)\n",
        "predict = predictions.argmax(axis=1)\n",
        "predict_map = [\"Male\" if v == 1 else \"Female\" for v in predict]\n",
        "#labels = ['Male','Female']\n",
        "conf_matrix = confusion_matrix(df_test['Male'], predict_map)\n"
      ],
      "metadata": {
        "colab": {
          "base_uri": "https://localhost:8080/"
        },
        "id": "XRXPRE2asuTg",
        "outputId": "1ea94ed4-c6fe-41d8-d2e7-9e8510cfec27"
      },
      "execution_count": null,
      "outputs": [
        {
          "output_type": "stream",
          "name": "stdout",
          "text": [
            "32/32 [==============================] - 5s 163ms/step - loss: 0.0000e+00 - accuracy: 0.0000e+00\n",
            "32/32 [==============================] - 477s 15s/step\n"
          ]
        }
      ]
    },
    {
      "cell_type": "code",
      "source": [
        "# Plot the confusion matrix\n",
        "plt.figure(figsize=(8, 6))\n",
        "sns.heatmap(conf_matrix, annot=True, fmt='g', cmap='Blues',\n",
        "xticklabels=['Predicted Negative', 'Predicted Positive'],\n",
        "yticklabels=['Actual Negative', 'Actual Positive'])\n",
        "plt.title('Confusion Matrix')\n",
        "plt.xlabel('Predicted Label')\n",
        "plt.ylabel('True Label')\n",
        "plt.show()\n",
        "\n"
      ],
      "metadata": {
        "colab": {
          "base_uri": "https://localhost:8080/",
          "height": 564
        },
        "id": "6PSEQhu6s4CX",
        "outputId": "bb79c7d2-ce07-4aff-b5d8-e99f3352f1b5"
      },
      "execution_count": null,
      "outputs": [
        {
          "output_type": "display_data",
          "data": {
            "text/plain": [
              "<Figure size 800x600 with 2 Axes>"
            ],
            "image/png": "[encoded data removed]"
          },
          "metadata": {}
        }
      ]
    }
  ]
}